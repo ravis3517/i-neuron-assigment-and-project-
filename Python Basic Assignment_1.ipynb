{
 "cells": [
  {
   "cell_type": "markdown",
   "metadata": {},
   "source": [
    "1. In the below elements which of them are values or an expression? eg:- values can be integer or string and expressions will be mathematical operators."
   ]
  },
  {
   "cell_type": "markdown",
   "metadata": {},
   "source": [
    "- * (Exponent)\n",
    "- 'hello'(String)\n",
    "- -87.8(Float)\n",
    "-  (-)(Arithmetic operator ,difference)\n",
    "- / (Arithmetic operator ,division)\n",
    "- + (Arithmetic operator ,SUM)\n",
    "- 6 (Integer)\n",
    "\n"
   ]
  },
  {
   "attachments": {},
   "cell_type": "markdown",
   "metadata": {},
   "source": [
    "2. What is the difference between string and variable?\n",
    "\n",
    "\n",
    " \n",
    "- Strings is a data type for a a sequence of characters (e.g. ‘’RAVI”). In addition to letters, they can also include numbers, spaces, punctuation, and even line breaks (using ‘\\n’ for new line). Strings can not be used for calculation (even if your string is just a number like ‘5’), you would have to convert it to a number data type first to perform math operations on it.\n",
    "\n",
    "\n",
    "- It is defined as string by putting single quotes (‘ ’) or double quotes (“ “) around whatever you want to classify as a string. The string data type is primarily used for reading and writing data.\n",
    "\n",
    "- Variables are references that you create to refer to other values in your program later. Variables are also great for being able to refer values in that change in response to different events in your program.\n",
    "\n",
    "- When writing a program, you can assign the value to a variable (e.g.ravi_string = “ravi is doing ineuron course”) so that you can refer to it later in your program just by typing ravi_string. \n"
   ]
  },
  {
   "cell_type": "markdown",
   "metadata": {},
   "source": [
    "3. Describe three different data types.\n",
    "\n",
    "Python has the following data types built-in by default, in these categories:\n",
    "\n",
    "\n",
    "- Numeric Types:int, float, complex\n",
    "- Sequence Types:list, tuple, range,String\n",
    "- Mapping Type:\tdict- \n",
    "- Boolean Type:bool\n",
    "\n",
    "Numeric data type represent the data which has numeric value.\n",
    "\n",
    "- Integers – This value is represented by int class. It contains positive or negative whole numbers (without fraction or decimal). In Python there is no limit to how long an integer value can be.\n",
    "- Float – This value is represented by float class. It is a real number with floating point representation. It is specified by a decimal point. Optionally, the character e or E followed by a positive or negative integer may be appended to specify scientific notation.\n",
    "- Complex Numbers – Complex number is represented by complex class. It is specified as (real part) + (imaginary part)j. For example – 2+3j   \n",
    "\n",
    "Sequence is the ordered collection of similar or different data types. Sequences allows to store multiple values in an organized and efficient fashion. \n",
    "\n",
    "-  Strings are arrays of bytes representing Unicode characters. \n",
    "A string is a collection of one or more characters put in a single quote, double-quote or triple quote. \n",
    "In python there is no character data type, a character is a string of length one. It is represented by str class.\n",
    "\n",
    "        String1 = 'Welcome to ineuorn course'\n",
    "         print(string1)\n",
    "\n",
    "- Lists are just like the arrays, declared in other languages which is a ordered collection of data. \n",
    "It is very flexible as the items in a list do not need to be of the same type.\n",
    "\n",
    "          Creating a List with fruits name\n",
    " \n",
    "         List = [\"apple\", \"organe\", \"Grapes\"]\n",
    "\n",
    "\n",
    "- Tuple is also an ordered collection of Python objects. \n",
    "The only difference between tuple and list is that tuples are immutable i.e. tuples cannot be modified after it is created. It is represented by tuple class.\n",
    "\n",
    "           Tuple1 = (0, 1, 2, 3)\n",
    "\n",
    "\n",
    "- Boolean:\n",
    "Data type with one of the two built-in values, True or False. \n",
    "\n",
    "Boolean objects that are equal to True are truthy (true), and those equal to False are falsy (false). But non-Boolean objects can be evaluated in Boolean context as well and determined to be true or false. It is denoted by the class bool.\n",
    "\n",
    "          print(type(True))\n",
    "          print(type(False))\n",
    "  \n",
    "          print(type(true))\n",
    "\n",
    "\n",
    "- Dictionary\n",
    "Dictionary in Python is an unordered collection of data values, used to store data values \n",
    "Dictionary holds key:value pair.\n",
    " Each key-value pair in a Dictionary is separated by a colon :, whereas each key is separated by a ‘comma’.\n",
    " \n",
    " \n",
    "             Dict = {'RAVI': 'Ineuron', 1: [1, 2, 3, 4]} \n",
    "              print(Dict) "
   ]
  },
  {
   "cell_type": "markdown",
   "metadata": {},
   "source": [
    "4. What is an expression made up of? What do all expressions do?\n",
    "\n",
    "\n"
   ]
  },
  {
   "cell_type": "markdown",
   "metadata": {},
   "source": [
    "An expression is any sequence of literals (strings, numbers, lists, sets, tuples), objects, function calls, identifiers combined with a variety of operators which results in a value - regardless of whether of the resulting value is an object, or a number, or even a None.\n",
    "\n",
    " So examples of expressions are :\n",
    "• ‘Ineuron’ - this is a string literal\n",
    "• 17000.89- this is a floating point literal\n",
    "• {1,2,3,4} - a set literal\n",
    "• my_func(1,2,3) - a function call (even if the function returns None)\n",
    "\n",
    "Basically, an expression in Python represents something. Be it a strin\n",
    "g, integer, boolean or otherwise.\n"
   ]
  },
  {
   "cell_type": "markdown",
   "metadata": {},
   "source": [
    "5. This assignment statements, like spam = 10. What is the difference between an expression and a statement?"
   ]
  },
  {
   "cell_type": "markdown",
   "metadata": {},
   "source": [
    "Future Reference/Self study :https://muddoo.com/tutorials/difference-between-expression-and-statement-in-python/"
   ]
  },
  {
   "cell_type": "markdown",
   "metadata": {},
   "source": [
    "Here we are assigning the 10 expression value to another variable ‘spam’. This type of command where a value is assigned to a variable is called a Python Statement.\n",
    "\n",
    "\n",
    "- Expression:\n",
    "  Expressions always returns a value\n",
    "  Functions are also expressions. Even a non returning function will still return None value, so it is an expression.\n",
    "   Can print the result value\n",
    "   Examples Of Python Expressions: “Hello” + “World”, 4 + 5 etc.\n",
    "- Statement:\n",
    "  A statement never returns a value\n",
    "  Cannot print any result\n",
    "   Examples Of Python Statements: Assignment statements, conditional branching, loops, classes, import, def, try, except, pass,     del etc"
   ]
  },
  {
   "cell_type": "markdown",
   "metadata": {},
   "source": [
    "6. After running the following code, what does the variable bacon contain?\n",
    "     - bacon = 22\n",
    "      - bacon + 1\n",
    "\n",
    "Answer \n",
    "\n",
    "bacon=22 ( As bacon variable is not assigned it is just be added by 1 )"
   ]
  },
  {
   "cell_type": "code",
   "execution_count": 7,
   "metadata": {},
   "outputs": [
    {
     "data": {
      "text/plain": [
       "23"
      ]
     },
     "execution_count": 7,
     "metadata": {},
     "output_type": "execute_result"
    }
   ],
   "source": [
    "bacon = 22\n",
    "bacon+1\n"
   ]
  },
  {
   "cell_type": "code",
   "execution_count": 9,
   "metadata": {},
   "outputs": [
    {
     "name": "stdout",
     "output_type": "stream",
     "text": [
      "22\n"
     ]
    }
   ],
   "source": [
    "print(bacon)"
   ]
  },
  {
   "cell_type": "markdown",
   "metadata": {},
   "source": [
    "7. What should the values of the following two terms be?\n",
    "    - 'spam' + 'spamspam'\n",
    "    - 'spam' * 3\n"
   ]
  },
  {
   "cell_type": "code",
   "execution_count": 13,
   "metadata": {},
   "outputs": [
    {
     "name": "stdout",
     "output_type": "stream",
     "text": [
      "spamspamspam\n",
      "spamspamspam\n"
     ]
    }
   ],
   "source": [
    "# this is called as string concatination \n",
    "print('spam' + 'spamspam')\n",
    "\n",
    "print('spam' * 3) #this will result in concatination of string 3 times , we can chnage the number to n number of time \n",
    "\n"
   ]
  },
  {
   "cell_type": "markdown",
   "metadata": {},
   "source": [
    "8. Why is eggs a valid variable name while 100 is invalid?"
   ]
  },
  {
   "cell_type": "markdown",
   "metadata": {},
   "source": [
    "Varibales can : \n",
    "    \n",
    "    -Only letter ,numbers and underscore (No hypen , whitespace ,apostrophes)\n",
    "    -Varibles cannot stat with number \n",
    "    \n",
    "    \n",
    "In the question \n",
    "\n",
    " - eggs is valid (only letters )\n",
    " - 100 is invalid (Cannot start with number , _100 can be vaild varible but not 100)"
   ]
  },
  {
   "cell_type": "markdown",
   "metadata": {},
   "source": [
    "9. What three functions can be used to get the integer, floating-point number, or string version of a value?"
   ]
  },
  {
   "cell_type": "markdown",
   "metadata": {},
   "source": [
    "     - int() # to get integer \n",
    "     -float()#For float\n",
    "       -str() #For string"
   ]
  },
  {
   "cell_type": "markdown",
   "metadata": {},
   "source": [
    "10. Why does this expression cause an error? How can you fix it?\n",
    "   - 'I have eaten ' + 99 + ' burritos.'\n"
   ]
  },
  {
   "cell_type": "code",
   "execution_count": 17,
   "metadata": {},
   "outputs": [
    {
     "ename": "TypeError",
     "evalue": "can only concatenate str (not \"int\") to str",
     "output_type": "error",
     "traceback": [
      "\u001b[1;31m---------------------------------------------------------------------------\u001b[0m",
      "\u001b[1;31mTypeError\u001b[0m                                 Traceback (most recent call last)",
      "\u001b[1;32m<ipython-input-17-d24137131a5c>\u001b[0m in \u001b[0;36m<module>\u001b[1;34m\u001b[0m\n\u001b[1;32m----> 1\u001b[1;33m \u001b[1;34m'I have eaten '\u001b[0m \u001b[1;33m+\u001b[0m \u001b[1;36m99\u001b[0m \u001b[1;33m+\u001b[0m \u001b[1;34m' burritos.'\u001b[0m\u001b[1;33m\u001b[0m\u001b[1;33m\u001b[0m\u001b[0m\n\u001b[0m",
      "\u001b[1;31mTypeError\u001b[0m: can only concatenate str (not \"int\") to str"
     ]
    }
   ],
   "source": [
    "'I have eaten ' + 99 + ' burritos.' # 99 is interger we cannot add one data type to another for that we have to convert 99 to string "
   ]
  },
  {
   "cell_type": "markdown",
   "metadata": {},
   "source": [
    "Answer :99 is interger we cannot add one data type to another for that we have to convert 99 to string"
   ]
  }
 ],
 "metadata": {
  "kernelspec": {
   "display_name": "Python 3",
   "language": "python",
   "name": "python3"
  },
  "language_info": {
   "codemirror_mode": {
    "name": "ipython",
    "version": 3
   },
   "file_extension": ".py",
   "mimetype": "text/x-python",
   "name": "python",
   "nbconvert_exporter": "python",
   "pygments_lexer": "ipython3",
   "version": "3.8.3"
  }
 },
 "nbformat": 4,
 "nbformat_minor": 4
}
